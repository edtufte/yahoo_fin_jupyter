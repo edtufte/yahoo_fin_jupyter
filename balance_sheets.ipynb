{
 "cells": [
  {
   "cell_type": "code",
   "execution_count": null,
   "metadata": {},
   "outputs": [],
   "source": [
    "import yahoo_fin.stock_info as si\n",
    "import pandas as pd\n",
    "import numpy as np\n",
    "import concurrent.futures\n",
    "import time\n",
    "startTime = time.time()"
   ]
  },
  {
   "cell_type": "code",
   "execution_count": null,
   "metadata": {},
   "outputs": [],
   "source": [
    "def pull_fin_info(function_call, stock_list):\n",
    "    futures_df = {}\n",
    "    with concurrent.futures.ProcessPoolExecutor() as executor:\n",
    "        for ticker in stock_list:\n",
    "                futures_df[ticker] = executor.submit(function_call,ticker)\n",
    "\n",
    "    results_df = {}\n",
    "    for ticker in stock_list:\n",
    "        try:\n",
    "            results_df[ticker] = futures_df[ticker].result(12) # 60 sec timeout\n",
    "            break\n",
    "        except:\n",
    "            print('error on ' + ticker)\n",
    "\n",
    "    recent_sheets = pd.DataFrame(np.empty((0, 1)))\n",
    "    recent_sheets = {ticker : sheet.iloc[:,:1] for ticker,sheet in results_df.items()}\n",
    "    for ticker in recent_sheets.keys():\n",
    "        recent_sheets[ticker].columns = ['Recent']\n",
    "    \n",
    "    recent_sheets = pd.concat(recent_sheets)\n",
    "    recent_sheets = recent_sheets.reset_index()\n",
    "    recent_sheets.columns = ['Ticker', 'Breakdown', 'Recent']\n",
    "    return recent_sheets"
   ]
  },
  {
   "cell_type": "code",
   "execution_count": null,
   "metadata": {},
   "outputs": [],
   "source": [
    "current_runtime = time.time() - startTime\n",
    "print('timer started seconds - ' + str(round(current_runtime,2)))\n",
    "\n",
    "stock_list = ['AMZN','KO','TSLA','GME','AAPL','GOOG','SP.OT']\n",
    "\n",
    "# stock_list.extend(si.tickers_dow()) # DOW option\n",
    "stock_list.extend(si.tickers_ftse100())\n",
    "\n",
    "stock_list = list(dict.fromkeys(stock_list))\n",
    "# print(stock_list)\n",
    "current_runtime = time.time() - startTime\n",
    "print('s&p500 pull done seconds - ' + str(round(current_runtime,2)))"
   ]
  },
  {
   "cell_type": "code",
   "execution_count": null,
   "metadata": {},
   "outputs": [],
   "source": [
    "balance_sheets = pull_fin_info(si.get_balance_sheet, stock_list)\n",
    "\n",
    "current_runtime = time.time() - startTime \n",
    "print('balance sheets done seconds - ' + str(round(current_runtime,2)))"
   ]
  },
  {
   "cell_type": "code",
   "execution_count": null,
   "metadata": {},
   "outputs": [],
   "source": [
    "income_statements = pull_fin_info(si.get_income_statement, stock_list)\n",
    "\n",
    "current_runtime = time.time() - startTime \n",
    "print('income statements done seconds - ' + str(round(current_runtime,2)))"
   ]
  },
  {
   "cell_type": "code",
   "execution_count": null,
   "metadata": {},
   "outputs": [],
   "source": [
    "cash_flow_statements = pull_fin_info(si.get_cash_flow, stock_list)\n",
    "\n",
    "current_runtime = time.time() - startTime\n",
    "print('cash flow statements done seconds - ' + str(round(current_runtime,2)))"
   ]
  },
  {
   "cell_type": "code",
   "execution_count": null,
   "metadata": {},
   "outputs": [],
   "source": [
    "frames = [balance_sheets, income_statements, cash_flow_statements]\n",
    "combined_df = pd.concat(frames)\n",
    "combined_df = combined_df.reset_index()"
   ]
  },
  {
   "cell_type": "code",
   "execution_count": null,
   "metadata": {},
   "outputs": [],
   "source": [
    "pivot_df = combined_df.pivot_table(index='Ticker', columns='Breakdown', values='Recent', aggfunc='sum')"
   ]
  },
  {
   "cell_type": "code",
   "execution_count": null,
   "metadata": {},
   "outputs": [],
   "source": [
    "pivot_df.query(\"Ticker == 'AMZN'\")"
   ]
  },
  {
   "cell_type": "code",
   "execution_count": null,
   "metadata": {},
   "outputs": [],
   "source": [
    "pivot_df.query(\"ebit >= 0\")"
   ]
  },
  {
   "cell_type": "code",
   "execution_count": null,
   "metadata": {},
   "outputs": [],
   "source": [
    "executionTime = (time.time() - startTime)\n",
    "print('Execution time in seconds: ' + str(executionTime))"
   ]
  }
 ],
 "metadata": {
  "kernelspec": {
   "display_name": "Python 3",
   "language": "python",
   "name": "python3"
  },
  "language_info": {
   "codemirror_mode": {
    "name": "ipython",
    "version": 3
   },
   "file_extension": ".py",
   "mimetype": "text/x-python",
   "name": "python",
   "nbconvert_exporter": "python",
   "pygments_lexer": "ipython3",
   "version": "3.10.4"
  },
  "toc-autonumbering": true,
  "toc-showmarkdowntxt": true
 },
 "nbformat": 4,
 "nbformat_minor": 4
}
