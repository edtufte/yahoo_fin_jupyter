{
 "cells": [
  {
   "cell_type": "code",
   "execution_count": null,
   "metadata": {},
   "outputs": [],
   "source": [
    "import yahoo_fin.stock_info as si\n",
    "import pandas as pd\n",
    "import concurrent.futures\n",
    "import time\n",
    "startTime = time.time()\n",
    "balance_sheets = {}\n",
    "stock_list = [] #['AMZN']\n",
    "stock_list.extend(si.tickers_sp500())\n",
    "print(stock_list)"
   ]
  },
  {
   "cell_type": "code",
   "execution_count": null,
   "metadata": {},
   "outputs": [],
   "source": [
    "income_statements = {}\n",
    "with concurrent.futures.ProcessPoolExecutor() as executor:\n",
    "    for ticker in stock_list:\n",
    "        balance_sheets[ticker] = executor.submit(si.get_balance_sheet,ticker)\n",
    "#         print(ticker)\n",
    "print('done')\n",
    "\n",
    "for ticker in stock_list:\n",
    "    balance_sheets[ticker] = balance_sheets[ticker].result(60) # 60 sec timeout\n",
    "#     print(ticker + '2')\n",
    "    \n",
    "print('done2')"
   ]
  },
  {
   "cell_type": "code",
   "execution_count": null,
   "metadata": {},
   "outputs": [],
   "source": [
    "recent_sheets = {ticker : sheet.iloc[:,:1] for ticker,sheet in balance_sheets.items()}\n",
    "\n",
    "for ticker in recent_sheets.keys():\n",
    "    recent_sheets[ticker].columns = ['Recent']\n",
    "    \n",
    "combined_sheets = pd.concat(recent_sheets)\n",
    "\n",
    "combined_sheets = combined_sheets.reset_index()\n",
    "combined_sheets.columns = ['Ticker', 'Breakdown', 'Recent']"
   ]
  },
  {
   "cell_type": "code",
   "execution_count": null,
   "metadata": {},
   "outputs": [],
   "source": [
    "income_statements = {}\n",
    "with concurrent.futures.ProcessPoolExecutor() as executor:\n",
    "    for ticker in stock_list:\n",
    "        income_statements[ticker] = executor.submit(si.get_income_statement,ticker)\n",
    "#         print(ticker)\n",
    "print('done')\n",
    "\n",
    "for ticker in stock_list:\n",
    "    income_statements[ticker] = income_statements[ticker].result()\n",
    "#     print(ticker + '2')\n",
    "    \n",
    "print('done2')"
   ]
  },
  {
   "cell_type": "code",
   "execution_count": null,
   "metadata": {},
   "outputs": [],
   "source": [
    "recent_income_statements = {ticker : sheet.iloc[:,:1] for ticker,sheet in income_statements.items()}\n",
    "for ticker in recent_income_statements.keys():\n",
    "    recent_income_statements[ticker].columns = ['Recent']\n",
    "\n",
    "combined_income = pd.concat(recent_income_statements)\n",
    "combined_income = combined_income.reset_index()\n",
    "combined_income.columns = ['Ticker', 'Breakdown', 'Recent']"
   ]
  },
  {
   "cell_type": "code",
   "execution_count": null,
   "metadata": {},
   "outputs": [],
   "source": [
    "cash_flow_statements = {}\n",
    "with concurrent.futures.ProcessPoolExecutor() as executor:\n",
    "    for ticker in stock_list:\n",
    "        cash_flow_statements[ticker] = executor.submit(si.get_cash_flow,ticker)\n",
    "#         print(ticker)\n",
    "print('done')\n",
    "\n",
    "for ticker in stock_list:\n",
    "    cash_flow_statements[ticker] = cash_flow_statements[ticker].result()\n",
    "#     print(ticker + '2')\n",
    "    \n",
    "print('done2')"
   ]
  },
  {
   "cell_type": "code",
   "execution_count": null,
   "metadata": {},
   "outputs": [],
   "source": [
    "recent_cash_flow_statements = {ticker : sheet.iloc[:,:1] for ticker,sheet in income_statements.items()}\n",
    "for ticker in recent_cash_flow_statements.keys():\n",
    "    recent_cash_flow_statements[ticker].columns = ['Recent']\n",
    "\n",
    "combined_cash_flow = pd.concat(recent_cash_flow_statements)\n",
    "combined_cash_flow = combined_cash_flow.reset_index()\n",
    "combined_cash_flow.columns = ['Ticker', 'Breakdown', 'Recent']"
   ]
  },
  {
   "cell_type": "code",
   "execution_count": null,
   "metadata": {},
   "outputs": [],
   "source": [
    "frames = [combined_sheets, combined_income, combined_cash_flow]\n",
    "combined_df = pd.concat(frames)\n",
    "combined_df = combined_df.reset_index()"
   ]
  },
  {
   "cell_type": "code",
   "execution_count": null,
   "metadata": {},
   "outputs": [],
   "source": [
    "pivot_df = combined_df.pivot_table(index='Ticker', columns='Breakdown', values='Recent', aggfunc='sum')"
   ]
  },
  {
   "cell_type": "code",
   "execution_count": null,
   "metadata": {},
   "outputs": [],
   "source": [
    "pivot_df.query(\"Ticker == 'AMZN'\")"
   ]
  },
  {
   "cell_type": "code",
   "execution_count": null,
   "metadata": {},
   "outputs": [],
   "source": [
    "pivot_df.query(\"ebit >= 0\")"
   ]
  },
  {
   "cell_type": "code",
   "execution_count": null,
   "metadata": {},
   "outputs": [],
   "source": [
    "executionTime = (time.time() - startTime)\n",
    "print('Execution time in seconds: ' + str(executionTime))"
   ]
  }
 ],
 "metadata": {
  "kernelspec": {
   "display_name": "Python 3",
   "language": "python",
   "name": "python3"
  },
  "language_info": {
   "codemirror_mode": {
    "name": "ipython",
    "version": 3
   },
   "file_extension": ".py",
   "mimetype": "text/x-python",
   "name": "python",
   "nbconvert_exporter": "python",
   "pygments_lexer": "ipython3",
   "version": "3.9.2"
  },
  "toc-autonumbering": true,
  "toc-showmarkdowntxt": true
 },
 "nbformat": 4,
 "nbformat_minor": 4
}
