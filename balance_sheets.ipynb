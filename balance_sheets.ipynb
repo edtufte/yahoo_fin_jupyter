{
 "cells": [
  {
   "cell_type": "code",
   "execution_count": 1,
   "metadata": {},
   "outputs": [],
   "source": [
    "import yahoo_fin.stock_info as si\n",
    "import pandas as pd\n",
    "import numpy as np\n",
    "import concurrent.futures\n",
    "import time\n",
    "startTime = time.time()"
   ]
  },
  {
   "cell_type": "code",
   "execution_count": 2,
   "metadata": {},
   "outputs": [],
   "source": [
    "def pull_fin_info(df, function_call, stock_list):\n",
    "\n",
    "    with concurrent.futures.ProcessPoolExecutor() as executor:\n",
    "        for ticker in stock_list:\n",
    "                df[ticker] = executor.submit(function_call,ticker)\n",
    "\n",
    "    for ticker in stock_list:\n",
    "        try:\n",
    "            df[ticker] = df[ticker].result(12) # 60 sec timeout\n",
    "        except:\n",
    "            print('error on ' + ticker)\n",
    "\n",
    "    recent_sheets = pd.DataFrame(np.empty((0, 1)))\n",
    "    recent_sheets = {ticker : sheet.iloc[:,:1] for ticker,sheet in df.items()}\n",
    "    for ticker in recent_sheets.keys():\n",
    "        recent_sheets[ticker].columns = ['Recent']\n",
    "\n",
    "    recent_sheets = pd.concat(recent_sheets)\n",
    "    recent_sheets = recent_sheets.reset_index()\n",
    "    recent_sheets.columns = ['Ticker', 'Breakdown', 'Recent']\n",
    "    return recent_sheets"
   ]
  },
  {
   "cell_type": "code",
   "execution_count": 3,
   "metadata": {},
   "outputs": [
    {
     "name": "stdout",
     "output_type": "stream",
     "text": [
      "timer started seconds - 0.18\n",
      "s&p500 pull done seconds - 1.35\n"
     ]
    }
   ],
   "source": [
    "current_runtime = time.time() - startTime\n",
    "print('timer started seconds - ' + str(round(current_runtime,2)))\n",
    "\n",
    "stock_list = ['AMZN','KO','TSLA','GME','AAPL','GOOG','SPOT']\n",
    "\n",
    "# stock_list.extend(si.tickers_dow()) # DOW option\n",
    "stock_list.extend(si.tickers_nifty50())\n",
    "stock_list = list(dict.fromkeys(stock_list))\n",
    "# print(stock_list)\n",
    "current_runtime = time.time() - startTime\n",
    "print('s&p500 pull done seconds - ' + str(round(current_runtime,2)))"
   ]
  },
  {
   "cell_type": "code",
   "execution_count": 4,
   "metadata": {},
   "outputs": [
    {
     "ename": "ValueError",
     "evalue": "Length mismatch: Expected axis has 0 elements, new values have 1 elements",
     "output_type": "error",
     "traceback": [
      "\u001b[0;31m---------------------------------------------------------------------------\u001b[0m",
      "\u001b[0;31mValueError\u001b[0m                                Traceback (most recent call last)",
      "\u001b[1;32m/home/erict/git/yahoo_fin_jupyter/balance_sheets.ipynb Cell 4'\u001b[0m in \u001b[0;36m<cell line: 2>\u001b[0;34m()\u001b[0m\n\u001b[1;32m      <a href='vscode-notebook-cell://code.tufte.duckdns.org/home/erict/git/yahoo_fin_jupyter/balance_sheets.ipynb#ch0000003vscode-remote?line=0'>1</a>\u001b[0m balance_sheets \u001b[39m=\u001b[39m {}\n\u001b[0;32m----> <a href='vscode-notebook-cell://code.tufte.duckdns.org/home/erict/git/yahoo_fin_jupyter/balance_sheets.ipynb#ch0000003vscode-remote?line=1'>2</a>\u001b[0m balance_sheets \u001b[39m=\u001b[39m pull_fin_info(balance_sheets, si\u001b[39m.\u001b[39;49mget_balance_sheet, stock_list)\n\u001b[1;32m      <a href='vscode-notebook-cell://code.tufte.duckdns.org/home/erict/git/yahoo_fin_jupyter/balance_sheets.ipynb#ch0000003vscode-remote?line=3'>4</a>\u001b[0m current_runtime \u001b[39m=\u001b[39m time\u001b[39m.\u001b[39mtime() \u001b[39m-\u001b[39m startTime \n\u001b[1;32m      <a href='vscode-notebook-cell://code.tufte.duckdns.org/home/erict/git/yahoo_fin_jupyter/balance_sheets.ipynb#ch0000003vscode-remote?line=4'>5</a>\u001b[0m \u001b[39mprint\u001b[39m(\u001b[39m'\u001b[39m\u001b[39mbalance sheets done seconds - \u001b[39m\u001b[39m'\u001b[39m \u001b[39m+\u001b[39m \u001b[39mstr\u001b[39m(\u001b[39mround\u001b[39m(current_runtime,\u001b[39m2\u001b[39m)))\n",
      "\u001b[1;32m/home/erict/git/yahoo_fin_jupyter/balance_sheets.ipynb Cell 2'\u001b[0m in \u001b[0;36mpull_fin_info\u001b[0;34m(df, function_call, stock_list)\u001b[0m\n\u001b[1;32m     <a href='vscode-notebook-cell://code.tufte.duckdns.org/home/erict/git/yahoo_fin_jupyter/balance_sheets.ipynb#ch0000001vscode-remote?line=13'>14</a>\u001b[0m recent_sheets \u001b[39m=\u001b[39m {ticker : sheet\u001b[39m.\u001b[39miloc[:,:\u001b[39m1\u001b[39m] \u001b[39mfor\u001b[39;00m ticker,sheet \u001b[39min\u001b[39;00m df\u001b[39m.\u001b[39mitems()}\n\u001b[1;32m     <a href='vscode-notebook-cell://code.tufte.duckdns.org/home/erict/git/yahoo_fin_jupyter/balance_sheets.ipynb#ch0000001vscode-remote?line=14'>15</a>\u001b[0m \u001b[39mfor\u001b[39;00m ticker \u001b[39min\u001b[39;00m recent_sheets\u001b[39m.\u001b[39mkeys():\n\u001b[0;32m---> <a href='vscode-notebook-cell://code.tufte.duckdns.org/home/erict/git/yahoo_fin_jupyter/balance_sheets.ipynb#ch0000001vscode-remote?line=15'>16</a>\u001b[0m     recent_sheets[ticker]\u001b[39m.\u001b[39mcolumns \u001b[39m=\u001b[39m [\u001b[39m'\u001b[39m\u001b[39mRecent\u001b[39m\u001b[39m'\u001b[39m]\n\u001b[1;32m     <a href='vscode-notebook-cell://code.tufte.duckdns.org/home/erict/git/yahoo_fin_jupyter/balance_sheets.ipynb#ch0000001vscode-remote?line=17'>18</a>\u001b[0m recent_sheets \u001b[39m=\u001b[39m pd\u001b[39m.\u001b[39mconcat(recent_sheets)\n\u001b[1;32m     <a href='vscode-notebook-cell://code.tufte.duckdns.org/home/erict/git/yahoo_fin_jupyter/balance_sheets.ipynb#ch0000001vscode-remote?line=18'>19</a>\u001b[0m recent_sheets \u001b[39m=\u001b[39m recent_sheets\u001b[39m.\u001b[39mreset_index()\n",
      "File \u001b[0;32m~/.local/lib/python3.10/site-packages/pandas/core/generic.py:5588\u001b[0m, in \u001b[0;36mNDFrame.__setattr__\u001b[0;34m(self, name, value)\u001b[0m\n\u001b[1;32m   <a href='file:///home/erict/.local/lib/python3.10/site-packages/pandas/core/generic.py?line=5585'>5586</a>\u001b[0m \u001b[39mtry\u001b[39;00m:\n\u001b[1;32m   <a href='file:///home/erict/.local/lib/python3.10/site-packages/pandas/core/generic.py?line=5586'>5587</a>\u001b[0m     \u001b[39mobject\u001b[39m\u001b[39m.\u001b[39m\u001b[39m__getattribute__\u001b[39m(\u001b[39mself\u001b[39m, name)\n\u001b[0;32m-> <a href='file:///home/erict/.local/lib/python3.10/site-packages/pandas/core/generic.py?line=5587'>5588</a>\u001b[0m     \u001b[39mreturn\u001b[39;00m \u001b[39mobject\u001b[39;49m\u001b[39m.\u001b[39;49m\u001b[39m__setattr__\u001b[39;49m(\u001b[39mself\u001b[39;49m, name, value)\n\u001b[1;32m   <a href='file:///home/erict/.local/lib/python3.10/site-packages/pandas/core/generic.py?line=5588'>5589</a>\u001b[0m \u001b[39mexcept\u001b[39;00m \u001b[39mAttributeError\u001b[39;00m:\n\u001b[1;32m   <a href='file:///home/erict/.local/lib/python3.10/site-packages/pandas/core/generic.py?line=5589'>5590</a>\u001b[0m     \u001b[39mpass\u001b[39;00m\n",
      "File \u001b[0;32m~/.local/lib/python3.10/site-packages/pandas/_libs/properties.pyx:70\u001b[0m, in \u001b[0;36mpandas._libs.properties.AxisProperty.__set__\u001b[0;34m()\u001b[0m\n",
      "File \u001b[0;32m~/.local/lib/python3.10/site-packages/pandas/core/generic.py:769\u001b[0m, in \u001b[0;36mNDFrame._set_axis\u001b[0;34m(self, axis, labels)\u001b[0m\n\u001b[1;32m    <a href='file:///home/erict/.local/lib/python3.10/site-packages/pandas/core/generic.py?line=766'>767</a>\u001b[0m \u001b[39mdef\u001b[39;00m \u001b[39m_set_axis\u001b[39m(\u001b[39mself\u001b[39m, axis: \u001b[39mint\u001b[39m, labels: Index) \u001b[39m-\u001b[39m\u001b[39m>\u001b[39m \u001b[39mNone\u001b[39;00m:\n\u001b[1;32m    <a href='file:///home/erict/.local/lib/python3.10/site-packages/pandas/core/generic.py?line=767'>768</a>\u001b[0m     labels \u001b[39m=\u001b[39m ensure_index(labels)\n\u001b[0;32m--> <a href='file:///home/erict/.local/lib/python3.10/site-packages/pandas/core/generic.py?line=768'>769</a>\u001b[0m     \u001b[39mself\u001b[39;49m\u001b[39m.\u001b[39;49m_mgr\u001b[39m.\u001b[39;49mset_axis(axis, labels)\n\u001b[1;32m    <a href='file:///home/erict/.local/lib/python3.10/site-packages/pandas/core/generic.py?line=769'>770</a>\u001b[0m     \u001b[39mself\u001b[39m\u001b[39m.\u001b[39m_clear_item_cache()\n",
      "File \u001b[0;32m~/.local/lib/python3.10/site-packages/pandas/core/internals/managers.py:214\u001b[0m, in \u001b[0;36mBaseBlockManager.set_axis\u001b[0;34m(self, axis, new_labels)\u001b[0m\n\u001b[1;32m    <a href='file:///home/erict/.local/lib/python3.10/site-packages/pandas/core/internals/managers.py?line=211'>212</a>\u001b[0m \u001b[39mdef\u001b[39;00m \u001b[39mset_axis\u001b[39m(\u001b[39mself\u001b[39m, axis: \u001b[39mint\u001b[39m, new_labels: Index) \u001b[39m-\u001b[39m\u001b[39m>\u001b[39m \u001b[39mNone\u001b[39;00m:\n\u001b[1;32m    <a href='file:///home/erict/.local/lib/python3.10/site-packages/pandas/core/internals/managers.py?line=212'>213</a>\u001b[0m     \u001b[39m# Caller is responsible for ensuring we have an Index object.\u001b[39;00m\n\u001b[0;32m--> <a href='file:///home/erict/.local/lib/python3.10/site-packages/pandas/core/internals/managers.py?line=213'>214</a>\u001b[0m     \u001b[39mself\u001b[39;49m\u001b[39m.\u001b[39;49m_validate_set_axis(axis, new_labels)\n\u001b[1;32m    <a href='file:///home/erict/.local/lib/python3.10/site-packages/pandas/core/internals/managers.py?line=214'>215</a>\u001b[0m     \u001b[39mself\u001b[39m\u001b[39m.\u001b[39maxes[axis] \u001b[39m=\u001b[39m new_labels\n",
      "File \u001b[0;32m~/.local/lib/python3.10/site-packages/pandas/core/internals/base.py:69\u001b[0m, in \u001b[0;36mDataManager._validate_set_axis\u001b[0;34m(self, axis, new_labels)\u001b[0m\n\u001b[1;32m     <a href='file:///home/erict/.local/lib/python3.10/site-packages/pandas/core/internals/base.py?line=65'>66</a>\u001b[0m     \u001b[39mpass\u001b[39;00m\n\u001b[1;32m     <a href='file:///home/erict/.local/lib/python3.10/site-packages/pandas/core/internals/base.py?line=67'>68</a>\u001b[0m \u001b[39melif\u001b[39;00m new_len \u001b[39m!=\u001b[39m old_len:\n\u001b[0;32m---> <a href='file:///home/erict/.local/lib/python3.10/site-packages/pandas/core/internals/base.py?line=68'>69</a>\u001b[0m     \u001b[39mraise\u001b[39;00m \u001b[39mValueError\u001b[39;00m(\n\u001b[1;32m     <a href='file:///home/erict/.local/lib/python3.10/site-packages/pandas/core/internals/base.py?line=69'>70</a>\u001b[0m         \u001b[39mf\u001b[39m\u001b[39m\"\u001b[39m\u001b[39mLength mismatch: Expected axis has \u001b[39m\u001b[39m{\u001b[39;00mold_len\u001b[39m}\u001b[39;00m\u001b[39m elements, new \u001b[39m\u001b[39m\"\u001b[39m\n\u001b[1;32m     <a href='file:///home/erict/.local/lib/python3.10/site-packages/pandas/core/internals/base.py?line=70'>71</a>\u001b[0m         \u001b[39mf\u001b[39m\u001b[39m\"\u001b[39m\u001b[39mvalues have \u001b[39m\u001b[39m{\u001b[39;00mnew_len\u001b[39m}\u001b[39;00m\u001b[39m elements\u001b[39m\u001b[39m\"\u001b[39m\n\u001b[1;32m     <a href='file:///home/erict/.local/lib/python3.10/site-packages/pandas/core/internals/base.py?line=71'>72</a>\u001b[0m     )\n",
      "\u001b[0;31mValueError\u001b[0m: Length mismatch: Expected axis has 0 elements, new values have 1 elements"
     ]
    }
   ],
   "source": [
    "balance_sheets = {}\n",
    "balance_sheets = pull_fin_info(balance_sheets, si.get_balance_sheet, stock_list)\n",
    "\n",
    "current_runtime = time.time() - startTime \n",
    "print('balance sheets done seconds - ' + str(round(current_runtime,2)))"
   ]
  },
  {
   "cell_type": "code",
   "execution_count": null,
   "metadata": {},
   "outputs": [],
   "source": [
    "income_statements = {}\n",
    "income_statements = pull_fin_info(income_statements, si.get_income_statement, stock_list)\n",
    "\n",
    "current_runtime = time.time() - startTime \n",
    "print('income statements done seconds - ' + str(round(current_runtime,2)))"
   ]
  },
  {
   "cell_type": "code",
   "execution_count": null,
   "metadata": {},
   "outputs": [],
   "source": [
    "\n",
    "cash_flow_statements = {}\n",
    "cash_flow_statements = pull_fin_info(cash_flow_statements, si.get_cash_flow, stock_list)\n",
    "\n",
    "current_runtime = time.time() - startTime\n",
    "print('cash flow statements done seconds - ' + str(round(current_runtime,2)))"
   ]
  },
  {
   "cell_type": "code",
   "execution_count": null,
   "metadata": {},
   "outputs": [],
   "source": [
    "frames = [balance_sheets, income_statements, cash_flow_statements]\n",
    "combined_df = pd.concat(frames)\n",
    "combined_df = combined_df.reset_index()"
   ]
  },
  {
   "cell_type": "code",
   "execution_count": null,
   "metadata": {},
   "outputs": [],
   "source": [
    "pivot_df = combined_df.pivot_table(index='Ticker', columns='Breakdown', values='Recent', aggfunc='sum')"
   ]
  },
  {
   "cell_type": "code",
   "execution_count": null,
   "metadata": {},
   "outputs": [],
   "source": [
    "pivot_df.query(\"Ticker == 'AMZN'\")"
   ]
  },
  {
   "cell_type": "code",
   "execution_count": null,
   "metadata": {},
   "outputs": [],
   "source": [
    "pivot_df.query(\"ebit >= 0\")"
   ]
  },
  {
   "cell_type": "code",
   "execution_count": null,
   "metadata": {},
   "outputs": [],
   "source": [
    "executionTime = (time.time() - startTime)\n",
    "print('Execution time in seconds: ' + str(executionTime))"
   ]
  }
 ],
 "metadata": {
  "kernelspec": {
   "display_name": "Python 3",
   "language": "python",
   "name": "python3"
  },
  "language_info": {
   "codemirror_mode": {
    "name": "ipython",
    "version": 3
   },
   "file_extension": ".py",
   "mimetype": "text/x-python",
   "name": "python",
   "nbconvert_exporter": "python",
   "pygments_lexer": "ipython3",
   "version": "3.10.4"
  },
  "toc-autonumbering": true,
  "toc-showmarkdowntxt": true
 },
 "nbformat": 4,
 "nbformat_minor": 4
}
